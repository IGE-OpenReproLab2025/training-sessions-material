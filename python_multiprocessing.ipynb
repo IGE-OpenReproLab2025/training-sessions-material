{
 "cells": [
  {
   "cell_type": "code",
   "execution_count": 1,
   "id": "47a6ddad-e8b5-4cc4-84cf-5f24b624e753",
   "metadata": {},
   "outputs": [],
   "source": [
    "import timeit # Used to measure function performance\n",
    "from concurrent.futures import ThreadPoolExecutor # Used to do multi-threading (many computations on one CPU)\n",
    "from concurrent.futures import ProcessPoolExecutor # Used to do multi-processing (one computation per CPU on many CPUs)"
   ]
  },
  {
   "cell_type": "code",
   "execution_count": 2,
   "id": "2fcb5631-b0e6-43ae-b4b2-ca36c89d75a9",
   "metadata": {},
   "outputs": [],
   "source": [
    "# Define a fibonacci function for example\n",
    "def fib(n):\n",
    "    return n if n < 2 else fib(n - 2) + fib(n - 1)"
   ]
  },
  {
   "cell_type": "code",
   "execution_count": 3,
   "id": "ac3ca9f8-daa5-44ad-8488-45ae7f4d1fdf",
   "metadata": {},
   "outputs": [],
   "source": [
    "# Case 1: call fibonacci functions one after another in a classic loop\n",
    "def fib_simple(fib_args):\n",
    "    for args in fib_args:\n",
    "        fib(args)"
   ]
  },
  {
   "cell_type": "code",
   "execution_count": 4,
   "id": "419e1f3f-667c-4f1a-8b0d-369594fce55b",
   "metadata": {},
   "outputs": [],
   "source": [
    "# Case 2: call fibonacci functions in differents threads\n",
    "def fib_threaded(fib_args):\n",
    "    with ThreadPoolExecutor() as executor:\n",
    "        executor.map(fib, fib_args)"
   ]
  },
  {
   "cell_type": "code",
   "execution_count": 5,
   "id": "07635a84-159a-422b-9585-20cf042997af",
   "metadata": {},
   "outputs": [],
   "source": [
    "# Case 3: call fibonacci functions in differents processes\n",
    "def fib_processed(fib_args):\n",
    "    with ProcessPoolExecutor() as executor:\n",
    "        executor.map(fib, fib_args)"
   ]
  },
  {
   "cell_type": "code",
   "execution_count": 6,
   "id": "1abcec90-a156-40b1-845a-bc19fd60d486",
   "metadata": {},
   "outputs": [],
   "source": [
    "# Define a function to time a function call and print it\n",
    "def time_and_print(fib_func, fib_args):\n",
    "    print(f\"'{fib_func.__name__}(fib_arguments)' executed in {round(timeit.timeit(lambda: fib_func(fib_args), number=1), 2)} seconds\")"
   ]
  },
  {
   "cell_type": "code",
   "execution_count": 7,
   "id": "efb15dfd-6133-47ef-82cb-5773dd29eda8",
   "metadata": {},
   "outputs": [],
   "source": [
    "# Define 20 calls of fibonacci functions with different arguments\n",
    "fib_arguments = [35, 32, 33, 12, 24, 31, 35, 31, 26, 29, 36, 35, 33, 12, 24, 24, 31, 33, 33, 32]"
   ]
  },
  {
   "cell_type": "code",
   "execution_count": 8,
   "id": "8e9c28cb-2cc8-4bc8-b12e-994245eb624a",
   "metadata": {},
   "outputs": [
    {
     "name": "stdout",
     "output_type": "stream",
     "text": [
      "'fib_simple(fib_arguments)' executed in 12.07 seconds\n"
     ]
    }
   ],
   "source": [
    "# Case 1 results: call fib_simple(fib_arguments) and time it\n",
    "time_and_print(fib_simple, fib_arguments)"
   ]
  },
  {
   "cell_type": "code",
   "execution_count": 9,
   "id": "8577a634-99a5-4b2a-881e-e77256e39a02",
   "metadata": {},
   "outputs": [
    {
     "name": "stdout",
     "output_type": "stream",
     "text": [
      "'fib_threaded(fib_arguments)' executed in 32.55 seconds\n"
     ]
    }
   ],
   "source": [
    "# Case 2 results: call fib_threaded(fib_arguments) and time it\n",
    "time_and_print(fib_threaded, fib_arguments)"
   ]
  },
  {
   "cell_type": "code",
   "execution_count": 10,
   "id": "4ea0a88a-9f8d-4a69-92ed-96aec342704e",
   "metadata": {},
   "outputs": [
    {
     "name": "stdout",
     "output_type": "stream",
     "text": [
      "'fib_processed(fib_arguments)' executed in 3.03 seconds\n"
     ]
    }
   ],
   "source": [
    "# Case 3 results: call fib_processed(fib_arguments) and time it\n",
    "time_and_print(fib_processed, fib_arguments)"
   ]
  },
  {
   "cell_type": "code",
   "execution_count": null,
   "id": "1a61e322-843e-4071-86f1-350310e57871",
   "metadata": {},
   "outputs": [],
   "source": []
  }
 ],
 "metadata": {
  "kernelspec": {
   "display_name": "Python 3 (ipykernel)",
   "language": "python",
   "name": "python3"
  },
  "language_info": {
   "codemirror_mode": {
    "name": "ipython",
    "version": 3
   },
   "file_extension": ".py",
   "mimetype": "text/x-python",
   "name": "python",
   "nbconvert_exporter": "python",
   "pygments_lexer": "ipython3",
   "version": "3.12.8"
  }
 },
 "nbformat": 4,
 "nbformat_minor": 5
}
