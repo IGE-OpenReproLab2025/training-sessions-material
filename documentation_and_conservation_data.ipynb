{
 "cells": [
  {
   "metadata": {},
   "cell_type": "markdown",
   "source": "# How to document and share your data?",
   "id": "aad064f3ae536635"
  },
  {
   "metadata": {},
   "cell_type": "markdown",
   "source": [
    "## 1) Type and format of data\n",
    "\n",
    "In goesciences, there are different types and formats of data.\n",
    "\n",
    "**For raster data:**\n",
    "- TIFF format\n",
    "- Geographic Tagged Image File Format (GeoTIFF): georeferenced raster imagery\n",
    "- Cloud Optimized GeoTIFF (COG): to facilitate access to/from the cloud\n",
    "\n",
    "**For multi-dimensional array:**\n",
    "- Hierarchical Data Format (HDF, especially HDF-5): General-purpose\n",
    "- Network Common Data Form (NetCDF, especially NetCDF4): Scientific-specific format with a compression based on HDF-5\n",
    "- Zarr: development targeted for data in cloud environments, there is a possibility to chunk dimensions\n",
    "\n",
    "**For tabulated data:**\n",
    "- Comma-Separated Values (CSV): text file format that uses commas to separate values, and newlines to separate records\n",
    "- xlsx (Excel)\n",
    "\n",
    "**For text data:**\n",
    "- American Standard Code for Information Interchange (ASCII): binary code used by electronic equipment to handle text using the English alphabet, numbers, and other common symbols\n",
    "\n",
    "\n",
    "\n",
    "And many [others](https://www.earthdata.nasa.gov/learn/earth-observation-data-basics/data-formats#toc-geographic-tagged-image-file-format-geotiff)!\n"
   ],
   "id": "27387500b4bf2f9"
  },
  {
   "metadata": {},
   "cell_type": "markdown",
   "source": "<span style=\"color:darkorange\">**Your turn!** Open different type of data, and check what is inside </span>",
   "id": "d42b305834901908"
  },
  {
   "metadata": {},
   "cell_type": "code",
   "source": [
    "#Open raster data\n",
    "import rasterio\n",
    "geotiff_path = \"/mnt/data-summer-shared/documentation-data/data/2022-08-12-00_00_2022-08-22-23_59_Sentinel-2_L1C_True_color.tiff\"\n",
    "geotiff_data = rasterio.open(geotiff_path)\n",
    "print(geotiff_data.meta)\n",
    "\n"
   ],
   "id": "82621c7e47d32d88",
   "outputs": [],
   "execution_count": null
  },
  {
   "metadata": {},
   "cell_type": "code",
   "source": [
    "#Open multi-dimensional data\n",
    "import xarray as xr\n",
    "nc_path = \"/mnt/data-summer-shared/notebook-basics/data/surface_temperature_historical_1970_2014_IPSL_CM6A_LR.nc\"\n",
    "nc_data = xr.open_dataset(nc_path)\n",
    "nc_data"
   ],
   "id": "f457e7c887577e59",
   "outputs": [],
   "execution_count": null
  },
  {
   "metadata": {},
   "cell_type": "code",
   "source": [
    "#Open tabulated data\n",
    "import pandas as pd\n",
    "txt_path = '/mnt/data-summer-shared/documentation-data/data/locations.csv'\n",
    "txt_data = pd.read_csv(txt_path)\n",
    "print(txt_data.iloc[:2]) #print only the first two colomns"
   ],
   "id": "938bf0dc2da46618",
   "outputs": [],
   "execution_count": null
  },
  {
   "metadata": {},
   "cell_type": "markdown",
   "source": [
    "## 2) Metadata and FAIR requirements\n",
    "\n",
    "No matter the type of data and the format, we need to properly define our metadata.\n",
    "\n",
    "The aim is to match the [FAIR requirements](https://www.go-fair.org/fair-principles/) : Findability, Accessibility, Interoperability, and Reuse\n",
    "\n",
    "Findability:\n",
    "- Is the dataset assigned a globally unique and persistent identifier (e.g., DOI, Handle)?\n",
    "- Is the dataset described with rich metadata (i.e., creator, title, data identifier, publisher, publication date, summary and keyword)?\n",
    "- Is the metadata explicitly including the identifier of the dataset?\n",
    "- Is the dataset (and metadata) indexed in a searchable resource (e.g., a public data repository like Zenodo, PANGAEA, or Dataverse)?\n",
    "\n",
    "Accessibility:\n",
    "- Can the data be retrieved using a standard protocol (e.g., HTTP, FTP, OAI-PMH, API)?\n",
    "- Are the metadata accessible even if the data itself is no longer available?\n",
    "\n",
    "Interoperability:\n",
    "- Are you using standard formats (e.g., NetCDF, CSV) and vocabularies (e.g., CF conventions)?\n",
    "- Are metadata schemas used (like Dublin Core, ISO19115)?\n",
    "\n",
    "Reusable:\n",
    "- Is it released with a clear and accessible data and code usage license? (e.g., CC-BY, MIT)?\n",
    "- Is it associated with detailed provenance (e.g., how, when, by whom data was generated)?\n",
    "\n",
    "<span style=\"color:darkorange\">**Your turn!** Check if a dataset meet the FAIR requirements </span>\n",
    "\n",
    "We can use an automated FAIR assement tool, to check your data or another dataset: https://www.f-uji.net/\n",
    "if you don't have any dataset, you can check: [ITS_LIVE data](https://nsidc.org/data/nsidc-0782/versions/1) or [PROTECT-MIP-Antarctica](https://data-protect-slr.univ-grenoble-alpes.fr/dataset/d4-7-protect-mip-antarctica)\n"
   ],
   "id": "bbf124e00a8b42e4"
  },
  {
   "metadata": {},
   "cell_type": "markdown",
   "source": [
    "## 3) Write your metadata\n",
    "\n",
    "Your metadata need to be specified either inside your dataset (for example in your NetCDF file) or outside (in a README).\n",
    "\n",
    "### Writing metadata inside a dataset. Example for NetCDF file - the CF convention\n",
    "\n",
    "Netcdf file usually follow the Climate and Forecast Metadata Conventions (CF), explained [here](https://cfconventions.org/conventions.html)"
   ],
   "id": "3ff849b71fd3f5d1"
  },
  {
   "metadata": {},
   "cell_type": "markdown",
   "source": "<span style=\"color:darkorange\">**Your turn!** Modify a netcdf data file to match the CF convention </span>\n",
   "id": "4f5f7d3b20df475d"
  },
  {
   "metadata": {},
   "cell_type": "code",
   "source": [
    "#Global attributes\n",
    "nc_data.attrs[\"title\"] = \"Monthly mean surface air temperature\"\n",
    "nc_data.attrs[\"Conventions\"] = \"CF-1.8\"\n",
    "nc_data.attrs[\"author\"] = ''\n",
    "nc_data.attrs[\"insitution\"] = ''\n",
    "nc_data.attrs[\"creation\"] = '' #date of creation\n",
    "nc_data.attrs[\"history\"] = '' #what operations where done and when"
   ],
   "id": "252ea9b2689b8168",
   "outputs": [],
   "execution_count": null
  },
  {
   "metadata": {},
   "cell_type": "code",
   "source": [
    "#Variable attribute (units, long_name, standard_name) [MANDATORY]\n",
    "nc_data[\"temp\"].attrs[\"units\"] = \"Celsius\"\n",
    "nc_data[\"temp\"].attrs[\"long_name\"] = \"Surface temperature\"#long descriptive name which may, for example, be used for labeling plots.\n",
    "nc_data[\"temp\"].attrs[\"standard_name\"] = \"temperature\" #unique identifiers for variables, The name used to identify the physical quantity. A standard name contains no whitespace and is case sensitive.\n",
    "\n",
    "#Variable attribute (units, long_name, standard_name) [FACULTATIVE]\n",
    "nc_data[\"temp\"].attrs[\"short_name\"] = \"T\"\n",
    "nc_data[\"temp\"].attrs[\"description\"] = \"the temperature at the surface\" #The description is meant to clarify the qualifiers of the fundamental quantities such as which surface a quantity is defined on or what the flux sign conventions are"
   ],
   "id": "301dbd34ef203e40",
   "outputs": [],
   "execution_count": null
  },
  {
   "metadata": {},
   "cell_type": "markdown",
   "source": [
    "You also need to define the coordinate system you are using, usually with a variable crs\n",
    "\n",
    "```\n",
    "variables:\n",
    "  int crs;\n",
    "    crs:grid_mapping_name = \"universal_transverse_mercator\";\n",
    "    crs:utm_zone_number = 32;\n",
    "    crs:semi_major_axis = 6378137.0;\n",
    "    crs:inverse_flattening = 298.257223563;\n",
    "    crs:longitude_of_prime_meridian = 0.0;\n",
    "    crs:datum = \"WGS84\";\n",
    "    crs:epsg_code = \"EPSG:32632\";\n",
    "    crs:spatial_ref = \"PROJCS[\\\"WGS 84 / UTM zone 32N\\\", ... ]\"; // Optional full WKT\n",
    "```\n"
   ],
   "id": "8becdb4ad377063b"
  },
  {
   "metadata": {},
   "cell_type": "markdown",
   "source": "This can be done automatically:",
   "id": "12b25f2a96187a91"
  },
  {
   "metadata": {},
   "cell_type": "code",
   "outputs": [],
   "execution_count": null,
   "source": [
    "import rioxarray\n",
    "import rioxarray\n",
    "print(f'EPSG before writing crs {nc_data.rio.crs}')\n",
    "nc_data.rio.write_crs(\"EPSG:32632\", inplace=True)#you can modify the EPSG code here\n",
    "print(f'EPSG after writing crs {nc_data.rio.crs}')\n",
    "# da.rio.to_netcdf(\"output.nc\")#Save back to NetCDF"
   ],
   "id": "767d20471d10e102"
  },
  {
   "metadata": {},
   "cell_type": "markdown",
   "source": "Check that you added a variable spatial_ref.",
   "id": "69943163c0de5736"
  },
  {
   "metadata": {},
   "cell_type": "code",
   "outputs": [],
   "execution_count": null,
   "source": "nc_data",
   "id": "954db291d4e67ea6"
  },
  {
   "metadata": {},
   "cell_type": "markdown",
   "source": [
    "You can also modify your metadata using [NCO](https://nco.sourceforge.net/) commands:\n",
    "- to change the name of a variable: ```ncrename -v old_var,new_var input.nc ```\n",
    "- to change the name of a dimension: ```ncrename -d old_dim,new_dim myfile.nc ```\n",
    "- to rename an attribute: ```ncrename -a old_attr,new_attr,var_name myfile.nc ```\n",
    "- to edit or add attributes: ```ncatted -a attribute_name,variable_name,mode,data_type,value input.nc ```\n",
    "- to add a new attribute: ```ncatted -a units,temp,a,c,\"Celsius\" myfile.nc ```\n",
    "- to delete an attribute: ```ncatted -a units,temp,d,, myfile.nc ```"
   ],
   "id": "cfa3c00b6f747924"
  },
  {
   "metadata": {},
   "cell_type": "markdown",
   "source": [
    "### Writing a README.txt file\n",
    "\n",
    "The same information previously defined can be included in a text file, called README.txt.\n",
    "More information [here](https://data.research.cornell.edu/data-management/sharing/readme/#dataspecific).\n"
   ],
   "id": "5bd1c366dfd4e9c"
  },
  {
   "metadata": {},
   "cell_type": "markdown",
   "source": [
    "## 4) Where to store your data\n",
    "\n",
    "Different platforms can be used to store your data online, and give a doi to this storage:\n",
    "- Gaia Data, which is composed of three infractures: Data Terra, CLIMERI-France et PNDB. DATA TERRA mainly covers data observations, for example data observations of land surfaces [Theia](https://www.theia-land.fr/en/homepage-en/). CLIMERI-France deals with data from climate simulation while PNDB is more focused on biodiversity data. Data can be shared using [EasyData](https://www.easydata.earth/#/public/home).\n",
    "- [RechercheDataGouv](https://recherche.data.gouv.fr/en/category/9/guide/depositing-a-dataset)\n",
    "- [zenodo](https://help.zenodo.org/docs/deposit/create-new-upload/) (international, and widely used)\n",
    "\n",
    "- [Dataverse](https://dataverse.org/)\n",
    "- [PANGEA](https://www.pangaea.de/submit/)\n",
    "\n",
    "\n",
    "The most commonly used is probably zenodo.\n",
    "\n",
    "NB: You can define an embargo on your data on zenodo and Recherche Data Gouv\n",
    "\n",
    "## 5) To go further\n",
    "\n",
    "If you want to go further, and create a data hub or portal, here are some usefull tools:\n",
    "- [CKAN](https://ckan.org/)\n",
    "- [ERDDAP](https://www.ncei.noaa.gov/erddap/index.html)\n",
    "\n",
    "You can also create an app, to provide visualizations of your data, for example using the python library [Holoviz](https://holoviz.org/).\n",
    "An example, [here](https://edu.oggm.org/en/latest/explorer.html).\n",
    "\n",
    "\n",
    "\n"
   ],
   "id": "6f482ab27fd04470"
  },
  {
   "metadata": {},
   "cell_type": "markdown",
   "source": "",
   "id": "950017120d38d3e7"
  }
 ],
 "metadata": {
  "kernelspec": {
   "display_name": "Python 3",
   "language": "python",
   "name": "python3"
  },
  "language_info": {
   "codemirror_mode": {
    "name": "ipython",
    "version": 2
   },
   "file_extension": ".py",
   "mimetype": "text/x-python",
   "name": "python",
   "nbconvert_exporter": "python",
   "pygments_lexer": "ipython2",
   "version": "2.7.6"
  }
 },
 "nbformat": 4,
 "nbformat_minor": 5
}
